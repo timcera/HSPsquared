{
 "cells": [
  {
   "cell_type": "markdown",
   "metadata": {},
   "source": [
    "# DEMO 3: Getting UCI data into HSP2"
   ]
  },
  {
   "cell_type": "markdown",
   "metadata": {},
   "source": [
    "### Python imports"
   ]
  },
  {
   "cell_type": "code",
   "execution_count": null,
   "metadata": {},
   "outputs": [],
   "source": [
    "from collections import defaultdict\n",
    "\n",
    "from pandas import DataFrame, HDFStore, read_hdf\n",
    "\n",
    "hdfname = \"test10.h5\""
   ]
  },
  {
   "cell_type": "markdown",
   "metadata": {},
   "source": [
    "### Discover the data in the HDF5 file"
   ]
  },
  {
   "cell_type": "code",
   "execution_count": null,
   "metadata": {
    "scrolled": true
   },
   "outputs": [],
   "source": [
    "with HDFStore(hdfname) as store:\n",
    "    keys = store.keys()\n",
    "\n",
    "    for key in keys:\n",
    "        print(key)"
   ]
  },
  {
   "cell_type": "markdown",
   "metadata": {},
   "source": [
    "Notes:\n",
    " * The use of a context manager to automatically close file correctly even if a exception is raised.\n",
    " * H5PY's key() is very fast, pytables' key() was **slow**.  That is why using the key was an option.  It is now just slow, but *maybe* acceptable."
   ]
  },
  {
   "cell_type": "markdown",
   "metadata": {},
   "source": [
    "Split the path name into the leading operation and activity module name and whatever else is left"
   ]
  },
  {
   "cell_type": "code",
   "execution_count": null,
   "metadata": {
    "scrolled": true
   },
   "outputs": [],
   "source": [
    "with HDFStore(hdfname) as store:\n",
    "    for path in store.keys():\n",
    "        operation, module, *other = path[1:].split(sep=\"/\", maxsplit=3)\n",
    "        s = \"_\".join(other)\n",
    "\n",
    "        print(operation, module, s)"
   ]
  },
  {
   "cell_type": "markdown",
   "metadata": {},
   "source": [
    "### Read all desired tables (DataFrame) into memory"
   ]
  },
  {
   "cell_type": "code",
   "execution_count": null,
   "metadata": {
    "scrolled": true
   },
   "outputs": [],
   "source": [
    "with HDFStore(hdfname) as store:\n",
    "    for path in store.keys():\n",
    "        operation, module, *other = path[1:].split(sep=\"/\", maxsplit=3)\n",
    "        s = \"_\".join(other)\n",
    "        if operation in {\"PERLND\", \"IMPLND\", \"RCHRES\"}:\n",
    "            df = store[path]\n",
    "\n",
    "            print(operation, module, s)\n",
    "            print(df)\n",
    "            print()"
   ]
  },
  {
   "cell_type": "markdown",
   "metadata": {},
   "source": [
    "### Convert table (DataFrame) into a dictionary"
   ]
  },
  {
   "cell_type": "markdown",
   "metadata": {},
   "source": [
    "Simple example"
   ]
  },
  {
   "cell_type": "code",
   "execution_count": null,
   "metadata": {},
   "outputs": [],
   "source": [
    "df = read_hdf(hdfname, \"RCHRES/HYDR/PARAMETERS\")\n",
    "df"
   ]
  },
  {
   "cell_type": "code",
   "execution_count": null,
   "metadata": {
    "scrolled": true
   },
   "outputs": [],
   "source": [
    "d = df.to_dict(\"index\")\n",
    "d"
   ]
  },
  {
   "cell_type": "code",
   "execution_count": null,
   "metadata": {},
   "outputs": [],
   "source": [
    "d.keys()"
   ]
  },
  {
   "cell_type": "code",
   "execution_count": null,
   "metadata": {},
   "outputs": [],
   "source": [
    "d[\"R004\"][\"DELTH\"]"
   ]
  },
  {
   "cell_type": "markdown",
   "metadata": {},
   "source": [
    "Now incorporate this together.\n",
    " * Note: defaultdict()"
   ]
  },
  {
   "cell_type": "code",
   "execution_count": null,
   "metadata": {
    "scrolled": true
   },
   "outputs": [],
   "source": [
    "ui = defaultdict(dict)\n",
    "with HDFStore(hdfname) as store:\n",
    "    for path in store.keys():\n",
    "        op, module, *other = path[1:].split(sep=\"/\", maxsplit=3)\n",
    "        s = \"_\".join(other)\n",
    "        if op in {\"PERLND\", \"IMPLND\", \"RCHRES\"}:\n",
    "            df = store[path]\n",
    "            ids = df.to_dict(\"index\")\n",
    "            for id in ids:\n",
    "                ui[(op, module, id)][s] = ids[id]\n",
    "\n",
    "ui"
   ]
  },
  {
   "cell_type": "code",
   "execution_count": null,
   "metadata": {},
   "outputs": [],
   "source": [
    "ui[(\"PERLND\", \"SNOW\", \"P001\")].keys()"
   ]
  },
  {
   "cell_type": "code",
   "execution_count": null,
   "metadata": {},
   "outputs": [],
   "source": [
    "(\n",
    "    ui[(\"PERLND\", \"SNOW\", \"P001\")][\"FLAGS\"],\n",
    "    ui[(\"PERLND\", \"SNOW\", \"P001\")][\"FLAGS\"][\"ICEFG\"],\n",
    ")"
   ]
  },
  {
   "cell_type": "code",
   "execution_count": null,
   "metadata": {},
   "outputs": [],
   "source": [
    "ui[(\"RCHRES\", \"HYDR\", \"R004\")][\"PARAMETERS\"][\"DELTH\"]"
   ]
  },
  {
   "cell_type": "code",
   "execution_count": null,
   "metadata": {},
   "outputs": [],
   "source": [
    "ui[(\"RCHRES\", \"HYDR\", \"R004\")][\"PARAMETERS\"][\"TYPE\"]"
   ]
  },
  {
   "cell_type": "markdown",
   "metadata": {},
   "source": [
    "But main() will take its knowelege of operation, module, segment to pass the appropriate directory to the called program"
   ]
  },
  {
   "cell_type": "code",
   "execution_count": null,
   "metadata": {},
   "outputs": [],
   "source": [
    "passthis = ui[(\"PERLND\", \"SNOW\", \"P001\")]\n",
    "\n",
    "type(passthis), passthis[\"FLAGS\"], passthis[\"FLAGS\"][\"ICEFG\"]"
   ]
  },
  {
   "cell_type": "code",
   "execution_count": null,
   "metadata": {},
   "outputs": [],
   "source": [
    "passthis = ui[(\"RCHRES\", \"HYDR\", \"R004\")]\n",
    "passthis[\"PARAMETERS\"][\"DELTH\"]"
   ]
  },
  {
   "cell_type": "markdown",
   "metadata": {},
   "source": [
    "### CLEANUP"
   ]
  },
  {
   "cell_type": "markdown",
   "metadata": {},
   "source": [
    "The original code from above\n",
    "```\n",
    "ui = defaultdict(dict)\n",
    "with HDFStore(hdfname) as store:\n",
    "    for path in store.keys():\n",
    "        op, module, *other = path[1:].split(sep='/', maxsplit=3)\n",
    "        s = '_'.join(other)\n",
    "        if op in {'PERLND', 'IMPLND', 'RCHRES'}:\n",
    "            df = store[path]\n",
    "            ids = df.to_dict('index')\n",
    "            for id in ids:\n",
    "                ui[(op, module, id)][s] = ids[id]\n",
    "```"
   ]
  },
  {
   "cell_type": "code",
   "execution_count": null,
   "metadata": {
    "scrolled": true
   },
   "outputs": [],
   "source": [
    "ui2 = defaultdict(dict)\n",
    "with HDFStore(hdfname) as store:\n",
    "    for path in store.keys():\n",
    "        op, module, *other = path[1:].split(sep=\"/\", maxsplit=3)\n",
    "        s = \"_\".join(other)\n",
    "        if op in {\"PERLND\", \"IMPLND\", \"RCHRES\"}:\n",
    "            for id, vdict in store[path].to_dict(\"index\").items():\n",
    "                ui2[(op, module, id)][s] = vdict\n",
    "\n",
    "ui2"
   ]
  },
  {
   "cell_type": "code",
   "execution_count": null,
   "metadata": {},
   "outputs": [],
   "source": [
    "ui == ui2"
   ]
  },
  {
   "cell_type": "code",
   "execution_count": null,
   "metadata": {},
   "outputs": [],
   "source": []
  }
 ],
 "metadata": {
  "kernelspec": {
   "display_name": "Python 3",
   "language": "python",
   "name": "python3"
  },
  "language_info": {
   "codemirror_mode": {
    "name": "ipython",
    "version": 3
   },
   "file_extension": ".py",
   "mimetype": "text/x-python",
   "name": "python",
   "nbconvert_exporter": "python",
   "pygments_lexer": "ipython3",
   "version": "3.8.2"
  }
 },
 "nbformat": 4,
 "nbformat_minor": 4
}
